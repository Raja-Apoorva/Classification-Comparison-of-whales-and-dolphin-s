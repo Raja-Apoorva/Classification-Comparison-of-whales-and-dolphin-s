{
 "cells": [
  {
   "cell_type": "code",
   "execution_count": 6,
   "metadata": {},
   "outputs": [
    {
     "name": "stdout",
     "output_type": "stream",
     "text": [
      "Note: you may need to restart the kernel to use updated packages.\n"
     ]
    },
    {
     "name": "stderr",
     "output_type": "stream",
     "text": [
      "WARNING: Skipping opencv-python as it is not installed.\n"
     ]
    }
   ],
   "source": [
    "pip uninstall opencv-python "
   ]
  },
  {
   "cell_type": "code",
   "execution_count": 3,
   "metadata": {},
   "outputs": [
    {
     "name": "stdout",
     "output_type": "stream",
     "text": [
      "Collecting opencv-python\n",
      "  Using cached opencv_python-4.5.5.64-cp36-abi3-win_amd64.whl (35.4 MB)\n",
      "Requirement already satisfied: numpy>=1.21.2 in c:\\users\\user\\appdata\\local\\programs\\python\\python310\\lib\\site-packages (from opencv-python) (1.22.3)\n",
      "Installing collected packages: opencv-python\n",
      "Successfully installed opencv-python-4.5.5.64\n",
      "Note: you may need to restart the kernel to use updated packages.\n"
     ]
    }
   ],
   "source": [
    "pip install opencv-python --user"
   ]
  },
  {
   "cell_type": "code",
   "execution_count": 3,
   "metadata": {},
   "outputs": [
    {
     "name": "stdout",
     "output_type": "stream",
     "text": [
      "(68144, 64, 64, 3) (68144,)\n",
      "0    0\n",
      "1    0\n",
      "2    0\n",
      "3    1\n",
      "4    1\n",
      "Name: 0, dtype: int32\n"
     ]
    }
   ],
   "source": [
    "import tensorflow as tf\n",
    "import pandas as pd\n",
    "from tensorflow.keras import datasets, layers, models\n",
    "from tensorflow import keras\n",
    "import matplotlib.pyplot as plt\n",
    "import numpy as np\n",
    "import os\n",
    "import cv2\n",
    "import splitfolders\n",
    "from sklearn.model_selection import train_test_split\n",
    "import albumentations as A\n",
    "import cv2\n",
    "import numpy as np\n",
    "import os\n",
    "from keras.preprocessing.image import ImageDataGenerator\n",
    "from keras import backend as K\n",
    "import keras\n",
    "from keras.models import Sequential, Model,load_model\n",
    "from tensorflow.keras.optimizers import SGD\n",
    "from keras.callbacks import EarlyStopping,ModelCheckpoint\n",
    "#from google.colab.patches import cv2_imshow\n",
    "from keras.layers import Input, Add, Dense, Activation, ZeroPadding2D, BatchNormalization, Flatten, Conv2D, AveragePooling2D, MaxPooling2D, GlobalMaxPooling2D,MaxPool2D\n",
    "from keras.preprocessing import image\n",
    "from keras.initializers import glorot_uniform\n",
    "\n",
    "transform = A.Compose([\n",
    "        A.HorizontalFlip(p=0.5),\n",
    "        A.RandomBrightnessContrast(p=0.2)\n",
    "])\n",
    "\n",
    "y=[]\n",
    "train_img_array=[]\n",
    "test_img_array =[]\n",
    "train_df = []\n",
    "ds = pd.read_csv(\"F:/MASTERS AI/Data Science II/TERM PROJECT/whale_dolphin_pictures/train.csv\")\n",
    "train_image_path = \"F:/MASTERS AI/Data Science II/TERM PROJECT/whale_dolphin_pictures/train_images_final/\"\n",
    "test_image_path = \"F:/MASTERS AI/Data Science II/TERM PROJECT/whale_dolphin_pictures/test_images_final/\"\n",
    "for img in os.listdir(train_image_path):\n",
    "    image = cv2.imread(os.path.join(train_image_path,img))\n",
    "    image = np.asarray(image)\n",
    "    train_img_array.append(image)\n",
    "    species = ds.loc[ds['image'] == img,'species'].values[0]\n",
    "    if 'whale' in species:\n",
    "        y.append(0)\n",
    "    elif 'dolphin' in species:\n",
    "        y.append(1)\n",
    "        transformed = transform(image = image)\n",
    "        train_img_array.append(transformed[\"image\"])\n",
    "        y.append(1)\n",
    "    elif 'dolpin' in species:\n",
    "        y.append(1)\n",
    "        transformed = transform(image = image)\n",
    "        train_img_array.append(transformed[\"image\"])\n",
    "        y.append(1)\n",
    "    elif 'beluga' in species:\n",
    "        y.append(0)\n",
    "    elif 'globis' in species:\n",
    "        y.append(1)\n",
    "        transformed = transform(image = image)\n",
    "        train_img_array.append(transformed[\"image\"])\n",
    "        y.append(1)\n",
    "   \n",
    "y = np.asarray(y)\n",
    "train_img_array = np.asarray(train_img_array)\n",
    "print(np.shape(train_img_array), np.shape(y))\n",
    "\n",
    "\n",
    "dat = pd.DataFrame(y)\n",
    "print(dat[0].head(5))\n",
    "labels = list(ds['individual_id'].unique())\n",
    "#cv2.imshow(\"img\",train_img_array[3])\n",
    "#cv2.waitKey(0)\n",
    "#cv2.imshow(\"img\",train_img_array[4])\n",
    "#cv2.waitKey(0)\n",
    "\n"
   ]
  },
  {
   "cell_type": "code",
   "execution_count": 4,
   "metadata": {},
   "outputs": [],
   "source": [
    "\n",
    "model_VGG = Sequential()\n",
    "model_VGG.add(Conv2D(input_shape=(64,64,3),filters=64,kernel_size=(3,3),padding=\"same\", activation=\"relu\"))\n",
    "model_VGG.add(Conv2D(filters=64,kernel_size=(3,3),padding=\"same\", activation=\"relu\"))\n",
    "model_VGG.add(MaxPool2D(pool_size=(2,2),strides=(2,2)))\n",
    "model_VGG.add(Conv2D(filters=128, kernel_size=(3,3), padding=\"same\", activation=\"relu\"))\n",
    "model_VGG.add(Conv2D(filters=128, kernel_size=(3,3), padding=\"same\", activation=\"relu\"))\n",
    "model_VGG.add(MaxPool2D(pool_size=(2,2),strides=(2,2)))\n",
    "model_VGG.add(Conv2D(filters=256, kernel_size=(3,3), padding=\"same\", activation=\"relu\"))\n",
    "model_VGG.add(Conv2D(filters=256, kernel_size=(3,3), padding=\"same\", activation=\"relu\"))\n",
    "model_VGG.add(Conv2D(filters=256, kernel_size=(3,3), padding=\"same\", activation=\"relu\"))\n",
    "model_VGG.add(MaxPool2D(pool_size=(2,2),strides=(2,2)))\n",
    "model_VGG.add(Conv2D(filters=512, kernel_size=(3,3), padding=\"same\", activation=\"relu\"))\n",
    "model_VGG.add(Conv2D(filters=512, kernel_size=(3,3), padding=\"same\", activation=\"relu\"))\n",
    "model_VGG.add(Conv2D(filters=512, kernel_size=(3,3), padding=\"same\", activation=\"relu\"))\n",
    "model_VGG.add(MaxPool2D(pool_size=(2,2),strides=(2,2)))\n",
    "model_VGG.add(Conv2D(filters=512, kernel_size=(3,3), padding=\"same\", activation=\"relu\"))\n",
    "model_VGG.add(Conv2D(filters=512, kernel_size=(3,3), padding=\"same\", activation=\"relu\"))\n",
    "model_VGG.add(Conv2D(filters=512, kernel_size=(3,3), padding=\"same\", activation=\"relu\"))\n",
    "model_VGG.add(MaxPool2D(pool_size=(2,2),strides=(2,2)))\n",
    "\n",
    "model_VGG.add(Flatten())\n",
    "model_VGG.add(Dense(units=4096,activation=\"relu\"))\n",
    "model_VGG.add(Dense(units=4096,activation=\"relu\"))\n",
    "model_VGG.add(Dense(units=2, activation=\"softmax\"))\n",
    "model_VGG.add(Flatten())\n",
    "#from keras.optimizers import Adam\n",
    "#opt = Adam(lr=0.001)\n",
    "#model_VGG.compile(optimizer=opt, loss=keras.losses.categorical_crossentropy, metrics=['accuracy'])\n",
    "#model_VGG.summary()\n",
    "\n",
    "#model_VGG.fit_generator(train_img_array,validation_data=dat[0],epochs=3,verbose=1)\n",
    "#model_VGG.fit(x=train_img_array,y=dat[0],epochs=5,validation_split =0.2)\n",
    "#prediction = model_VGG.predict(test_img_array)\n",
    "#print(prediction)\n"
   ]
  },
  {
   "cell_type": "code",
   "execution_count": 5,
   "metadata": {},
   "outputs": [
    {
     "name": "stdout",
     "output_type": "stream",
     "text": [
      "Model: \"sequential\"\n",
      "_________________________________________________________________\n",
      " Layer (type)                Output Shape              Param #   \n",
      "=================================================================\n",
      " conv2d (Conv2D)             (None, 64, 64, 64)        1792      \n",
      "                                                                 \n",
      " conv2d_1 (Conv2D)           (None, 64, 64, 64)        36928     \n",
      "                                                                 \n",
      " max_pooling2d (MaxPooling2D  (None, 32, 32, 64)       0         \n",
      " )                                                               \n",
      "                                                                 \n",
      " conv2d_2 (Conv2D)           (None, 32, 32, 128)       73856     \n",
      "                                                                 \n",
      " conv2d_3 (Conv2D)           (None, 32, 32, 128)       147584    \n",
      "                                                                 \n",
      " max_pooling2d_1 (MaxPooling  (None, 16, 16, 128)      0         \n",
      " 2D)                                                             \n",
      "                                                                 \n",
      " conv2d_4 (Conv2D)           (None, 16, 16, 256)       295168    \n",
      "                                                                 \n",
      " conv2d_5 (Conv2D)           (None, 16, 16, 256)       590080    \n",
      "                                                                 \n",
      " conv2d_6 (Conv2D)           (None, 16, 16, 256)       590080    \n",
      "                                                                 \n",
      " max_pooling2d_2 (MaxPooling  (None, 8, 8, 256)        0         \n",
      " 2D)                                                             \n",
      "                                                                 \n",
      " conv2d_7 (Conv2D)           (None, 8, 8, 512)         1180160   \n",
      "                                                                 \n",
      " conv2d_8 (Conv2D)           (None, 8, 8, 512)         2359808   \n",
      "                                                                 \n",
      " conv2d_9 (Conv2D)           (None, 8, 8, 512)         2359808   \n",
      "                                                                 \n",
      " max_pooling2d_3 (MaxPooling  (None, 4, 4, 512)        0         \n",
      " 2D)                                                             \n",
      "                                                                 \n",
      " conv2d_10 (Conv2D)          (None, 4, 4, 512)         2359808   \n",
      "                                                                 \n",
      " conv2d_11 (Conv2D)          (None, 4, 4, 512)         2359808   \n",
      "                                                                 \n",
      " conv2d_12 (Conv2D)          (None, 4, 4, 512)         2359808   \n",
      "                                                                 \n",
      " max_pooling2d_4 (MaxPooling  (None, 2, 2, 512)        0         \n",
      " 2D)                                                             \n",
      "                                                                 \n",
      " flatten (Flatten)           (None, 2048)              0         \n",
      "                                                                 \n",
      " dense (Dense)               (None, 4096)              8392704   \n",
      "                                                                 \n",
      " dense_1 (Dense)             (None, 4096)              16781312  \n",
      "                                                                 \n",
      " dense_2 (Dense)             (None, 2)                 8194      \n",
      "                                                                 \n",
      " flatten_1 (Flatten)         (None, 2)                 0         \n",
      "                                                                 \n",
      "=================================================================\n",
      "Total params: 39,896,898\n",
      "Trainable params: 39,896,898\n",
      "Non-trainable params: 0\n",
      "_________________________________________________________________\n"
     ]
    }
   ],
   "source": [
    "model_VGG.summary()"
   ]
  },
  {
   "cell_type": "code",
   "execution_count": null,
   "metadata": {},
   "outputs": [],
   "source": [
    "model_VGG.compile(loss='binary_crossentropy', optimizer='Adam', metrics=['accuracy'])\n",
    "#model_VGG.fit(train_img_array,validation_data=dat[0],epochs=3,verbose=1)\n",
    "#hist = model_VGG.fit_generator(steps_per_epoch=100,generator=train_img_array, validation_data= dat[0], validation_steps=10,epochs=5)\n",
    "model_VGG.fit(x=train_img_array,y=dat[0],epochs=5,validation_split =0.2)\n",
    "prediction = model_VGG.predict(test_img_array)\n",
    "print(prediction)"
   ]
  }
 ],
 "metadata": {
  "interpreter": {
   "hash": "5d240ba0dc525c389faa33f5dcce5b4f32b6d6aa6d70d6d2dd929bd2b09ab69f"
  },
  "kernelspec": {
   "display_name": "Python 3.10.4 64-bit",
   "language": "python",
   "name": "python3"
  },
  "language_info": {
   "codemirror_mode": {
    "name": "ipython",
    "version": 3
   },
   "file_extension": ".py",
   "mimetype": "text/x-python",
   "name": "python",
   "nbconvert_exporter": "python",
   "pygments_lexer": "ipython3",
   "version": "3.10.4"
  },
  "orig_nbformat": 4
 },
 "nbformat": 4,
 "nbformat_minor": 2
}
